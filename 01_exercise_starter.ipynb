{
  "nbformat": 4,
  "nbformat_minor": 0,
  "metadata": {
    "colab": {
      "name": "Kopia notatnika 01_starter.ipynb",
      "provenance": [],
      "collapsed_sections": [],
      "toc_visible": true,
      "include_colab_link": true
    },
    "kernelspec": {
      "name": "python3",
      "display_name": "Python 3"
    },
    "language_info": {
      "name": "python"
    }
  },
  "cells": [
    {
      "cell_type": "markdown",
      "metadata": {
        "id": "view-in-github",
        "colab_type": "text"
      },
      "source": [
        "<a href=\"https://colab.research.google.com/github/BuczynskiRafal/SQLite/blob/main/01_exercise_starter.ipynb\" target=\"_parent\"><img src=\"https://colab.research.google.com/assets/colab-badge.svg\" alt=\"Open In Colab\"/></a>"
      ]
    },
    {
      "cell_type": "markdown",
      "metadata": {
        "id": "0EgD-ULO2L3J"
      },
      "source": [
        "## Starter"
      ]
    },
    {
      "cell_type": "markdown",
      "metadata": {
        "id": "5xnUJAHP2OXW"
      },
      "source": [
        "### Ćwiczenie 1\n",
        "Wydrukuj używaną wersję języka Python. W tym celu można wykorzystać moduł wbudowany *sys*.\n",
        "\n",
        "**Oczekiwany wynik:**\n",
        "```\n",
        "3.7.10\n",
        "```\n"
      ]
    },
    {
      "cell_type": "code",
      "metadata": {
        "id": "03sI_X822CpR",
        "colab": {
          "base_uri": "https://localhost:8080/",
          "height": 35
        },
        "outputId": "7182e00d-42e0-4e78-9435-2a3fb665be01"
      },
      "source": [
        "import sys\n",
        "sys.version.split()[0]"
      ],
      "execution_count": 5,
      "outputs": [
        {
          "output_type": "execute_result",
          "data": {
            "application/vnd.google.colaboratory.intrinsic+json": {
              "type": "string"
            },
            "text/plain": [
              "'3.7.12'"
            ]
          },
          "metadata": {},
          "execution_count": 5
        }
      ]
    },
    {
      "cell_type": "markdown",
      "metadata": {
        "id": "NxJ9pxjp2RW6"
      },
      "source": [
        "### Ćwiczenie 2\n",
        "Wykorzystując pakiet wbudowany *sqlite3* wydrukuj wersję tego pakietu.\n",
        "\n",
        "**Oczekiwany wynik:**\n",
        "```\n",
        "2.6.0\n",
        "```\n"
      ]
    },
    {
      "cell_type": "code",
      "metadata": {
        "id": "OuWI3tFW2R6-",
        "colab": {
          "base_uri": "https://localhost:8080/"
        },
        "outputId": "6ac0b0a3-a110-4474-8189-945ac05a0fda"
      },
      "source": [
        "import sqlite3\n",
        "print(sqlite3.version)"
      ],
      "execution_count": 7,
      "outputs": [
        {
          "output_type": "stream",
          "name": "stdout",
          "text": [
            "2.6.0\n"
          ]
        }
      ]
    },
    {
      "cell_type": "markdown",
      "metadata": {
        "id": "oRSuylLL2SRt"
      },
      "source": [
        "### Ćwiczenie 3\n",
        "Wykorzystując pakiet wbudowany *sqlite3* oraz odpowiednie polecenie SQL wydrukuj używaną wersję SQLite.\n",
        "\n",
        "**Oczekiwany wynik:**\n",
        "```\n",
        "3.22.0\n",
        "```\n"
      ]
    },
    {
      "cell_type": "code",
      "metadata": {
        "id": "KOcmeBNQ2Sjp",
        "colab": {
          "base_uri": "https://localhost:8080/"
        },
        "outputId": "198d0f31-2b8d-4e90-9f0b-a94595b5d181"
      },
      "source": [
        "import sqlite3\n",
        "\n",
        "conn = sqlite3.connect(':memory:')\n",
        "cur = conn.cursor()\n",
        "\n",
        "cur.execute(\"\"\"SELECT sqlite_version()\"\"\")\n",
        "version = cur.fetchall()[0][0]\n",
        "print(version)\n",
        "\n",
        "conn.close()"
      ],
      "execution_count": 14,
      "outputs": [
        {
          "output_type": "stream",
          "name": "stdout",
          "text": [
            "3.22.0\n"
          ]
        }
      ]
    },
    {
      "cell_type": "code",
      "metadata": {
        "id": "QSUGyukvuHB-"
      },
      "source": [
        ""
      ],
      "execution_count": null,
      "outputs": []
    }
  ]
}